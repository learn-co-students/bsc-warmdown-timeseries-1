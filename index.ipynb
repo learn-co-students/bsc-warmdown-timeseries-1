{
 "cells": [
  {
   "cell_type": "markdown",
   "id": "ee78c216-3e3c-4280-ba3c-d0a0ec83b212",
   "metadata": {
    "index": 0
   },
   "source": [
    "# Time Data Manipulation"
   ]
  },
  {
   "cell_type": "markdown",
   "id": "ba968cb9-8482-4ac5-b2fa-fc1cc1a7ed48",
   "metadata": {
    "index": 1
   },
   "source": [
    "In this notebook we practice basic time series manipulation, and recreate a New York Times visualization using COVID-19 data. "
   ]
  },
  {
   "cell_type": "markdown",
   "id": "a09da3eb-f869-4507-becc-6273b036256f",
   "metadata": {
    "index": 2
   },
   "source": [
    "In the cell below import pandas and matplotlib using the standard aliases."
   ]
  },
  {
   "cell_type": "code",
   "execution_count": null,
   "id": "fc85c854-7620-4738-9ab6-ed888a515234",
   "metadata": {
    "index": 3
   },
   "outputs": [],
   "source": [
    "# Your code here"
   ]
  },
  {
   "cell_type": "markdown",
   "id": "7d0b75f3-e4ed-4a0b-b00d-b7c2a3a3a207",
   "metadata": {
    "index": 5
   },
   "source": [
    "In the cell below, we import the New York Times COVID-19 State data. "
   ]
  },
  {
   "cell_type": "code",
   "execution_count": null,
   "id": "10164ce6-6306-4d8c-a8bb-2eac784cb669",
   "metadata": {
    "index": 6
   },
   "outputs": [],
   "source": [
    "# Run this cell unchanged\n",
    "df = pd.read_csv('https://raw.githubusercontent.com/nytimes/covid-19-data/master/us-states.csv')\n",
    "df.head(2)"
   ]
  },
  {
   "cell_type": "markdown",
   "id": "0249a498-e50b-499c-b8d7-09ed70605b8f",
   "metadata": {
    "index": 7
   },
   "source": [
    "Let's filter down to the observations for Alabama. \n",
    "\n",
    "In the cell below, create a dataframe called `alabama` that contains all of the observations for the state of Alabama."
   ]
  },
  {
   "cell_type": "code",
   "execution_count": null,
   "id": "9492351f-22a4-4c6f-8974-f6b43c4879bd",
   "metadata": {
    "index": 8
   },
   "outputs": [],
   "source": [
    "# Your code here"
   ]
  },
  {
   "cell_type": "markdown",
   "id": "ff5e98a4-aa0c-4f0f-994a-2f5edfaec88c",
   "metadata": {
    "index": 10
   },
   "source": [
    "In the cell below, output the datatypes for each of our columns."
   ]
  },
  {
   "cell_type": "code",
   "execution_count": null,
   "id": "fe8a3df5-347e-45f8-a401-732c65871d6c",
   "metadata": {
    "index": 11
   },
   "outputs": [],
   "source": [
    "# Your code here"
   ]
  },
  {
   "cell_type": "markdown",
   "id": "b3cfc8a6-4d46-43d2-9426-bc758628e208",
   "metadata": {
    "index": 13
   },
   "source": [
    "So we can use some handy time series tools, we need to change the datatype of the `date` column to `datetime`. In the cell below, convert the column to datetime. "
   ]
  },
  {
   "cell_type": "code",
   "execution_count": null,
   "id": "262d5f7f-2af0-43a8-a574-496f8649b566",
   "metadata": {
    "index": 14
   },
   "outputs": [],
   "source": [
    "# Your code here"
   ]
  },
  {
   "cell_type": "markdown",
   "id": "9ce79dcb-57b4-4676-8f2f-5ff73c0d71cf",
   "metadata": {
    "index": 16
   },
   "source": [
    "Now, let's set the `date` column as the index of the dataframe."
   ]
  },
  {
   "cell_type": "code",
   "execution_count": null,
   "id": "0e15e1eb-be7e-48f6-8d1d-d6427f30450a",
   "metadata": {
    "index": 17
   },
   "outputs": [],
   "source": [
    "# Your code here"
   ]
  },
  {
   "cell_type": "markdown",
   "id": "5523f24d-ef05-4df9-bc5e-b9a296477b6b",
   "metadata": {
    "index": 19
   },
   "source": [
    "The **timesteps** in this dataset are at a **daily frequency**. \n",
    "\n",
    "In the cell below, plot the number of cases per day in alabama where the xaxis is the date, and the y axis is the number of cases."
   ]
  },
  {
   "cell_type": "code",
   "execution_count": null,
   "id": "20191ae8-4354-4d0b-bb8e-44084f32171f",
   "metadata": {
    "index": 20
   },
   "outputs": [],
   "source": [
    "# Your code here"
   ]
  },
  {
   "cell_type": "markdown",
   "id": "990976ad-f1f7-4533-b04f-158a9febdca5",
   "metadata": {
    "index": 22
   },
   "source": [
    "Looking at the plot above, we can see that the number of cases increases with each timestep. While not totally uninformative, the takeaway from the plot above is sort of obvious: \n",
    "> The total number of documented covid cases increases as time goes by.  \n",
    "\n",
    "The reason why we are visualizing the total number of *recorded* covid cases is because these data for cases are **cumulative** which means for a given time step **i**:\n",
    "\n",
    "$t_i$ \n",
    "\n",
    "The number of cases for $t_i$ can be written as... \n",
    "\n",
    "$The\\space number\\space of\\space new\\space cases\\space t_i + all\\space recorded\\space cases\\space prior\\space to\\space t_i$\n",
    "\n",
    "So if we wanted to find the number of new cases for the most recent day, let's call this day $t_n$ where `n` represents the maximum number of days for which we have data,  all recorded cases prior to the $n_{th}$ day can be written as:\n",
    "\n",
    "$All\\space Recorded\\space Cases\\space Prior\\space to\\space the\\space n_{th}\\space day = \\sum_{i=0}^{i=n-1} new\\_cases_i$\n",
    "\n",
    "Where `n` represents the total number of days, and `i` represents an individual day.\n",
    "\n",
    "The above equation represents the case count for the previous timestep $n-1$:\n",
    "\n",
    "$t_{n-1} = \\sum_{i=t0}^{i=n-1} new\\_cases_i$\n",
    "\n",
    "Having established that the number of cases for a previous day are just the sum of all new cases up to the previous day, and that the number of cases for a new day is simply the number of cases for the previous day + the number of new cases for the new day, we can represent the data for the most recent day as:\n",
    "\n",
    "\n",
    "$t_{n} = new\\_cases_n + t_{n-1} = new\\_cases_n + \\sum_{i=0}^{i=n-1} new\\_cases_i $\n",
    "\n",
    "And to find the number of new cases that occured on the most recent day, we can simply subtract the previous day from the current day to get the number of new cases reported for the current day. "
   ]
  },
  {
   "cell_type": "code",
   "execution_count": null,
   "id": "85dfcb30-276c-48b3-a73e-f4ee8638dd81",
   "metadata": {
    "index": 23
   },
   "outputs": [],
   "source": [
    "# Run this cell unchanged\n",
    "# Collect the data for the two most \n",
    "# recent days\n",
    "most_recent_data = alabama.iloc[-1]\n",
    "second_most_recent_data = alabama.iloc[-2]\n",
    "\n",
    "# Collect dates\n",
    "most_recent_day = most_recent_data.name.strftime('%m/%d/%Y')\n",
    "second_most_recent_day = second_most_recent_data .name.strftime('%m/%d/%Y')\n",
    "\n",
    "# Collect number of cases\n",
    "most_recent_cases = most_recent_data.cases\n",
    "second_most_recent_cases = second_most_recent_data.cases\n",
    "\n",
    "# Find difference between observations\n",
    "newly_reported_cases = most_recent_cases - second_most_recent_cases\n",
    "\n",
    "# Print the results\n",
    "print('===========================')\n",
    "print('|     DATE    |   CASES   |')\n",
    "print('===========================')\n",
    "print(f'| {most_recent_day}  |   {most_recent_cases}  |')\n",
    "print('---------------------------')\n",
    "print(f'| {second_most_recent_day}  |   {second_most_recent_cases}  |')\n",
    "print('---------------------------')\n",
    "print(f'| NEW CASES:  |     {newly_reported_cases}  |')\n",
    "print('---------------------------')"
   ]
  },
  {
   "cell_type": "markdown",
   "id": "c7d74b3c-ee0b-4de1-9448-99160315b286",
   "metadata": {
    "index": 24
   },
   "source": [
    "The data manipulation demonstrated above is called `differencing` and while it is basically just simple subtraction, it is a meaningful deviation from what we have done so far in terms of data manipulation and data modeling.\n",
    "\n",
    "So far with machine learning, we have always built models with the assumption that every single row is *independent* of each other. By differencing we are now saying that the change from one row to the next contains meaningful information. In other words, we are now saying that the rows are *dependent* on each other. "
   ]
  },
  {
   "cell_type": "markdown",
   "id": "890a3557-3d77-4cc7-8716-8e2c4f4e2fe1",
   "metadata": {
    "index": 25
   },
   "source": [
    "-----------\n",
    "\n",
    "To get the new cases for every day in our data, we can use the pandas `.diff` method, that will subtract each row from a row that came before it.\n",
    "\n",
    "In the cell below, create a new column in the `alabama` dataframe called `new_cases` that measures the number of newly reported cases for each day. "
   ]
  },
  {
   "cell_type": "code",
   "execution_count": null,
   "id": "d34638e5-345b-40ef-a47e-e14491acc236",
   "metadata": {
    "index": 26
   },
   "outputs": [],
   "source": [
    "# Your code here"
   ]
  },
  {
   "cell_type": "markdown",
   "id": "7b73ca18-ec37-4817-b88b-e34f748fc032",
   "metadata": {
    "index": 28
   },
   "source": [
    "When we difference a dataframe, we will always lose some observations in our dataset. In this case, we lose the very first row of data because there is no case count before that row, which means we are unable to say how many new cases occured on that day.\n",
    "\n",
    "In the cell below, drop this row from the dataset."
   ]
  },
  {
   "cell_type": "code",
   "execution_count": null,
   "id": "bc1bdbc9-038f-408e-9597-4081343128c3",
   "metadata": {
    "index": 29
   },
   "outputs": [],
   "source": [
    "# Your code here"
   ]
  },
  {
   "cell_type": "markdown",
   "id": "6ee80511-1687-455b-8873-5024f8b2cdbf",
   "metadata": {
    "index": 31
   },
   "source": [
    "Now that we have a column showing the number of new cases for each day, we can use that column to visualize the change in reported-infection rates, a metric that is much more informative of a pandemic.\n",
    "\n",
    "In the cell below, plot the `new_cases` column with `date` as the x axis."
   ]
  },
  {
   "cell_type": "code",
   "execution_count": null,
   "id": "1ac35778-ad3f-4850-b7d7-b53f5c3c4307",
   "metadata": {
    "index": 32
   },
   "outputs": [],
   "source": [
    "# Your code here"
   ]
  },
  {
   "cell_type": "markdown",
   "id": "f8f95952-e8b6-48c2-9746-f846c1c754e2",
   "metadata": {
    "index": 34
   },
   "source": [
    "This is beginning to look a lot more like the visualizations we see in the news!\n",
    "\n",
    "![](alabama-covid-cases-july-29.png)"
   ]
  },
  {
   "cell_type": "markdown",
   "id": "ded1f03f-e36c-4d07-881a-eb373f8c3ac2",
   "metadata": {
    "index": 35
   },
   "source": [
    "If we look at the visualization created by The New York Times above, we can see the words \"7-day average\". Let's see if we can recreate this plot."
   ]
  },
  {
   "cell_type": "markdown",
   "id": "3feb7443-14e8-4f0a-a3e2-77624a9f81c3",
   "metadata": {
    "index": 36
   },
   "source": [
    "In the cell below, use the pandas `.resample` method for downsampling from daily to weekly timesteps and calculate the weekly average. Add the weekly average data to the alabama dataframe, and name the column `weekly_average`."
   ]
  },
  {
   "cell_type": "code",
   "execution_count": null,
   "id": "b03c93b1-689f-4120-854c-904190bf8e15",
   "metadata": {
    "index": 37
   },
   "outputs": [],
   "source": [
    "# Your code here"
   ]
  },
  {
   "cell_type": "code",
   "execution_count": null,
   "id": "2e6aeea7-a89e-4dde-a970-77ca256cdfaf",
   "metadata": {
    "index": 39
   },
   "outputs": [],
   "source": [
    "# Run this cell unchanged\n",
    "\n",
    "# Create a matplotlib subplot\n",
    "fig, ax = plt.subplots(figsize=(15,6))\n",
    "# Plot the number of new cases as a bard graph\n",
    "ax = alabama.new_cases.plot(kind='bar', stacked=True,ax=ax, color='#fbdddc');\n",
    "# Create a copy of the original axis object\n",
    "ax2 = ax.twiny()\n",
    "# Plot the weekly average on the copied axis\n",
    "alabama.dropna()['weekly_average'].plot(stacked=True,ax=ax2, color='red')\n",
    "# Collect the x and y axis data for the weekly average\n",
    "x = ax2.lines[0].get_xdata()\n",
    "y = ax2.lines[0].get_ydata()\n",
    "# Fill in the area under the lineplot\n",
    "ax2.fill_between(x, y,interpolate=True, color='#f8c8c7', alpha=.5)\n",
    "# Remove the xticks\n",
    "ax.set_xticks([])\n",
    "ax2.set_xticks([]);"
   ]
  },
  {
   "cell_type": "markdown",
   "id": "c1de86d8-9872-4906-b689-b1922774a8fe",
   "metadata": {
    "index": 40
   },
   "source": [
    "This looks much closer! If we compare this visualization to the one above, we can see that the weekly average line plot is a little less specific than the one made by the New York Times. This is because the nytimes visualization is made with the **rolling mean** rather than the weekly mean. The weekly mean is simply grouping all of the observations into groups and calculating the average for each group. The rolling mean, however, calculates the mean by looking at the 7 days proceeding each observation and calculating the mean of those seven days. "
   ]
  },
  {
   "cell_type": "markdown",
   "id": "92ec5477-d733-4841-87a0-67b92f4fcc6a",
   "metadata": {
    "index": 41
   },
   "source": [
    "In the cell below, calculate the 7 day rolling mean for the `new_cases` column using the `.rolling` method and add overwrite the `weekly_average` column to the alabama dataframe."
   ]
  },
  {
   "cell_type": "code",
   "execution_count": null,
   "id": "98d2aca4-5f1d-43a0-a3e2-c6fb98e73e21",
   "metadata": {
    "index": 42
   },
   "outputs": [],
   "source": [
    "# Your code here"
   ]
  },
  {
   "cell_type": "code",
   "execution_count": null,
   "id": "d4ee391d-c4de-475e-ba72-e8ca22a478b4",
   "metadata": {
    "index": 44
   },
   "outputs": [],
   "source": [
    "# Run this cell unchanged\n",
    "\n",
    "fig, ax = plt.subplots(figsize=(15,6))\n",
    "ax = alabama.new_cases.plot(kind='bar', stacked=True,ax=ax, color='#fbdddc');\n",
    "ax3 = ax.twiny()\n",
    "alabama.dropna()['weekly_average'].plot(stacked=True,ax=ax3, color='red')\n",
    "x = ax3.lines[0].get_xdata()\n",
    "y = ax3.lines[0].get_ydata()\n",
    "ax3.fill_between(x, y,interpolate=True, color='#f8c8c7', alpha=.5)\n",
    "ax.set_xticks([])\n",
    "ax3.set_xticks([]);"
   ]
  },
  {
   "cell_type": "markdown",
   "id": "038a341d-f735-47f2-b714-83d0648a87f9",
   "metadata": {
    "index": 45
   },
   "source": [
    "Looking at the rolling average above, is this time series stationary? Why or why not?"
   ]
  },
  {
   "cell_type": "markdown",
   "id": "fecf7ea9-2466-41e7-a709-cef60aa8f95b",
   "metadata": {
    "index": 46
   },
   "source": [
    "YOUR ANSWER HERE"
   ]
  },
  {
   "cell_type": "code",
   "execution_count": null,
   "id": "f61470b8-9a7a-473b-9528-9b1df507ab18",
   "metadata": {
    "index": 47
   },
   "outputs": [],
   "source": [
    "# Run this cell unchanged\n",
    "import numpy as np\n",
    "fig, ax = plt.subplots(1,2, figsize=(15,6))\n",
    "\n",
    "np.log(alabama.dropna().weekly_average).plot(ax=ax[0])\n",
    "alabama.dropna().weekly_average.diff(1).plot(ax=ax[1]);"
   ]
  },
  {
   "cell_type": "markdown",
   "id": "186fd7ca-8376-4fa7-8e24-19b32182030d",
   "metadata": {
    "index": 48
   },
   "source": [
    "Looking at the above visualizations which visualization would you say is more stationary?"
   ]
  },
  {
   "cell_type": "markdown",
   "id": "cc18eb5c-65fa-44bf-8a2e-a84876dd9d41",
   "metadata": {
    "index": 49
   },
   "source": [
    "YOUR ANSWER HERE"
   ]
  },
  {
   "cell_type": "markdown",
   "id": "1e5951c5-a868-4fb2-b6cf-bbdab1033bf9",
   "metadata": {
    "index": 50
   },
   "source": [
    "Let's use a statistical test to help confirm whether or not a 1 lagged (or one differenced) moving average is stationary. \n",
    "\n",
    "\n",
    "In the cell below, import the [Dickey-Fuller Test](https://en.wikipedia.org/wiki/Augmented_Dickey%E2%80%93Fuller_test) from statsmodels ([Documentation](https://www.statsmodels.org/dev/generated/statsmodels.tsa.stattools.adfuller.html)) and run the test. \n",
    "\n",
    "How do we interpret this test? What does this tell us about the the weekly average when we difference it by 1?"
   ]
  },
  {
   "cell_type": "code",
   "execution_count": null,
   "id": "163343d9-ce17-4f91-b7e8-e87907683d6d",
   "metadata": {
    "index": 51
   },
   "outputs": [],
   "source": [
    "# Your code here"
   ]
  },
  {
   "cell_type": "markdown",
   "id": "665a78bf-785d-41a6-b5b5-f93ed1e4a4c2",
   "metadata": {
    "index": 53
   },
   "source": [
    "## Bonus\n",
    "\n",
    "Below we demonstrate how to run differencing and how to calculate moving averages grouped by some category.\n",
    "\n",
    "It's not uncommon to have a dataset full of multiple time series. In this case, we have a time series for each individual state. At first glance plotting the differenced cases column or the moving average for each state sounds like an annoying subplots situation. But Pandas makes this very simple with their `subplots=True`. "
   ]
  },
  {
   "cell_type": "code",
   "execution_count": null,
   "id": "4aac3b2d-104c-488a-8d4b-5ab0d11527b0",
   "metadata": {
    "index": 54
   },
   "outputs": [],
   "source": [
    "# Sort the observations by date\n",
    "# Group by state and isolate the cases column\n",
    "# Calculate the difference of the cases column while grouped by state\n",
    "df['new_cases'] = df.sort_values(by='date')\\\n",
    ".groupby(['state'])['cases']\\\n",
    ".diff() \n",
    "df = df.dropna()"
   ]
  },
  {
   "cell_type": "code",
   "execution_count": null,
   "id": "eb8da85d-90d2-4a07-8a98-2c0c0acd86c7",
   "metadata": {
    "index": 55
   },
   "outputs": [],
   "source": [
    "import matplotlib.pyplot as plt\n",
    "\n",
    "# Create a pivot the the data\n",
    "# Where the dates are set as the index\n",
    "# the states each have their own column\n",
    "# and the values are the new cases\n",
    "axes = df.reset_index()\\\n",
    ".pivot(index='date', \n",
    "columns='state', \n",
    "values='new_cases'\n",
    ").plot(\n",
    "      subplots=True,      # Set subplots to True\n",
    "      figsize=(20,80));   # subplots will then create a subplot for each column!\n",
    "\n",
    "# This loop isn't really required\n",
    "# I'm just increasing the font size for the legends\n",
    "states = df.state.unique()\n",
    "for idx in range(len(states)):\n",
    "    axes[idx].legend(fontsize=15, loc='upper left')"
   ]
  },
  {
   "cell_type": "markdown",
   "id": "0a83f48d-2e6e-4a17-bd7d-1e8dc31a60ca",
   "metadata": {
    "index": 56
   },
   "source": [
    "Now we do a very similar process for the rolling average, but this time we use the transform method to apply a transformation to each time series grouped by state."
   ]
  },
  {
   "cell_type": "code",
   "execution_count": null,
   "id": "43303346-acb3-425a-ab71-8c9ccdcd5b23",
   "metadata": {
    "index": 57
   },
   "outputs": [],
   "source": [
    "df['rolling_average'] = df\\\n",
    ".sort_values('date')\\\n",
    ".groupby(['state'])\\\n",
    ".new_cases.transform(lambda s: s.rolling(7).mean())\n",
    "\n",
    "rolling_mean = df.dropna()"
   ]
  },
  {
   "cell_type": "markdown",
   "id": "3b2a0403-d07c-49f4-8161-278e018b6f3e",
   "metadata": {
    "index": 58
   },
   "source": [
    "Then we repeat the process of pivoting the dataframe so the index is the date, each state has its own column and the values in each column is the rolling average."
   ]
  },
  {
   "cell_type": "code",
   "execution_count": null,
   "id": "c28aeb6e-3891-482a-8312-38c29f787f6a",
   "metadata": {
    "index": 59
   },
   "outputs": [],
   "source": [
    "axes = rolling_mean.pivot(index='date', \n",
    "                 columns='state', \n",
    "                 values='rolling_average'\n",
    "                ).plot(\n",
    "                    subplots=True,\n",
    "                    figsize=(20,80));\n",
    "\n",
    "for idx in range(len(states)):\n",
    "    axes[idx].legend(fontsize=15, loc='upper left')"
   ]
  }
 ],
 "metadata": {
  "kernelspec": {
   "display_name": "Python 3",
   "language": "python",
   "name": "python3"
  },
  "language_info": {
   "codemirror_mode": {
    "name": "ipython",
    "version": 3
   },
   "file_extension": ".py",
   "mimetype": "text/x-python",
   "name": "python",
   "nbconvert_exporter": "python",
   "pygments_lexer": "ipython3",
   "version": "3.7.4"
  }
 },
 "nbformat": 4,
 "nbformat_minor": 5
}
